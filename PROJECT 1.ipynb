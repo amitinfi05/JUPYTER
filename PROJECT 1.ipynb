{
 "cells": [
  {
   "cell_type": "markdown",
   "id": "602d24bf",
   "metadata": {},
   "source": [
    "# HEALTH INSURANCE PRICE PREDICTION\n",
    "#  Using Random Forest Regression "
   ]
  },
  {
   "cell_type": "code",
   "execution_count": null,
   "id": "34c9f760",
   "metadata": {},
   "outputs": [],
   "source": []
  },
  {
   "cell_type": "markdown",
   "id": "dc744e15",
   "metadata": {},
   "source": [
    "## IMPORTING LIBRARIES"
   ]
  },
  {
   "cell_type": "code",
   "execution_count": null,
   "id": "bf6b8227",
   "metadata": {},
   "outputs": [],
   "source": [
    "import numpy as np\n",
    "import pandas as pd\n",
    "import matplotlib.pyplot as plt"
   ]
  },
  {
   "cell_type": "code",
   "execution_count": null,
   "id": "9b6c0c86",
   "metadata": {},
   "outputs": [],
   "source": []
  },
  {
   "cell_type": "markdown",
   "id": "c16005c1",
   "metadata": {},
   "source": [
    "## IMPORTING DATASETS"
   ]
  },
  {
   "cell_type": "code",
   "execution_count": 2,
   "id": "d21dd773",
   "metadata": {},
   "outputs": [],
   "source": [
    "data_set=pd.read_csv('C:/Users/prabina/Desktop/amitpython/insurance.csv')\n",
    "                "
   ]
  },
  {
   "cell_type": "code",
   "execution_count": null,
   "id": "cf66c2ee",
   "metadata": {},
   "outputs": [],
   "source": []
  },
  {
   "cell_type": "markdown",
   "id": "cd2908c4",
   "metadata": {},
   "source": [
    "### HANDLING MISSING DATA IF ANY"
   ]
  },
  {
   "cell_type": "code",
   "execution_count": 4,
   "id": "d4d1619d",
   "metadata": {},
   "outputs": [
    {
     "data": {
      "text/plain": [
       "age         0\n",
       "sex         0\n",
       "bmi         0\n",
       "children    0\n",
       "smoker      0\n",
       "region      0\n",
       "charges     0\n",
       "dtype: int64"
      ]
     },
     "execution_count": 4,
     "metadata": {},
     "output_type": "execute_result"
    }
   ],
   "source": [
    "data_set.isnull().sum()"
   ]
  },
  {
   "cell_type": "code",
   "execution_count": null,
   "id": "63130536",
   "metadata": {},
   "outputs": [],
   "source": []
  },
  {
   "cell_type": "markdown",
   "id": "b9dadf0f",
   "metadata": {},
   "source": [
    "### ENCODING CATEGORICAL DATA"
   ]
  },
  {
   "cell_type": "code",
   "execution_count": 79,
   "id": "827c0bfc",
   "metadata": {},
   "outputs": [
    {
     "data": {
      "text/plain": [
       "array(['female', 'male'], dtype=object)"
      ]
     },
     "execution_count": 79,
     "metadata": {},
     "output_type": "execute_result"
    }
   ],
   "source": [
    "data_set['sex'].unique()"
   ]
  },
  {
   "cell_type": "code",
   "execution_count": 80,
   "id": "7e879b8c",
   "metadata": {},
   "outputs": [],
   "source": [
    "data_set['sex']=data_set['sex'].map({'female':0,'male':1})"
   ]
  },
  {
   "cell_type": "code",
   "execution_count": 81,
   "id": "b7934544",
   "metadata": {},
   "outputs": [
    {
     "data": {
      "text/plain": [
       "array(['yes', 'no'], dtype=object)"
      ]
     },
     "execution_count": 81,
     "metadata": {},
     "output_type": "execute_result"
    }
   ],
   "source": [
    "data_set['smoker'].unique()"
   ]
  },
  {
   "cell_type": "code",
   "execution_count": 82,
   "id": "51b7ec6c",
   "metadata": {},
   "outputs": [],
   "source": [
    "data_set['smoker']=data_set['smoker'].map({'yes':1,'no':0})"
   ]
  },
  {
   "cell_type": "code",
   "execution_count": 83,
   "id": "282d0ef4",
   "metadata": {},
   "outputs": [
    {
     "data": {
      "text/plain": [
       "array([1, 0], dtype=int64)"
      ]
     },
     "execution_count": 83,
     "metadata": {},
     "output_type": "execute_result"
    }
   ],
   "source": [
    "data_set['smoker'].unique()"
   ]
  },
  {
   "cell_type": "code",
   "execution_count": 84,
   "id": "e408a1ab",
   "metadata": {},
   "outputs": [],
   "source": [
    "data_set['region']=data_set['region'].map({'northwest':1,'northeast':2,'southwest':3,'southeast':4})"
   ]
  },
  {
   "cell_type": "code",
   "execution_count": null,
   "id": "4ebdf6b9",
   "metadata": {},
   "outputs": [],
   "source": []
  },
  {
   "cell_type": "markdown",
   "id": "1fe1fe29",
   "metadata": {},
   "source": [
    "## SPLITTING DEPENDENT AND INDEPENDENT VARIABLE"
   ]
  },
  {
   "cell_type": "code",
   "execution_count": 188,
   "id": "419de1fa",
   "metadata": {},
   "outputs": [],
   "source": [
    "X=data_set.iloc[:,:-1].values"
   ]
  },
  {
   "cell_type": "code",
   "execution_count": 189,
   "id": "42efa591",
   "metadata": {},
   "outputs": [
    {
     "data": {
      "text/plain": [
       "array([[19.  ,  0.  , 27.9 ,  0.  ,  1.  ,  3.  ],\n",
       "       [18.  ,  1.  , 33.77,  1.  ,  0.  ,  4.  ],\n",
       "       [28.  ,  1.  , 33.  ,  3.  ,  0.  ,  4.  ],\n",
       "       ...,\n",
       "       [18.  ,  0.  , 36.85,  0.  ,  0.  ,  4.  ],\n",
       "       [21.  ,  0.  , 25.8 ,  0.  ,  0.  ,  3.  ],\n",
       "       [61.  ,  0.  , 29.07,  0.  ,  1.  ,  1.  ]])"
      ]
     },
     "execution_count": 189,
     "metadata": {},
     "output_type": "execute_result"
    }
   ],
   "source": [
    "X"
   ]
  },
  {
   "cell_type": "code",
   "execution_count": 154,
   "id": "95c4f6b0",
   "metadata": {},
   "outputs": [],
   "source": [
    "y=data_set.iloc[:,-1].values"
   ]
  },
  {
   "cell_type": "code",
   "execution_count": 155,
   "id": "e5d4f63d",
   "metadata": {},
   "outputs": [
    {
     "data": {
      "text/plain": [
       "array([16884.92,  1725.55,  4449.46, ...,  1629.83,  2007.94, 29141.36])"
      ]
     },
     "execution_count": 155,
     "metadata": {},
     "output_type": "execute_result"
    }
   ],
   "source": [
    "y"
   ]
  },
  {
   "cell_type": "code",
   "execution_count": null,
   "id": "fec599dc",
   "metadata": {},
   "outputs": [],
   "source": []
  },
  {
   "cell_type": "markdown",
   "id": "a8192642",
   "metadata": {},
   "source": [
    "### SPLITTING TRAINING AND TEST DATA"
   ]
  },
  {
   "cell_type": "code",
   "execution_count": 156,
   "id": "caf6150f",
   "metadata": {},
   "outputs": [],
   "source": [
    "from sklearn.model_selection import train_test_split\n",
    "X_train,X_test,y_train,y_test=train_test_split(X,y,test_size=0.2,random_state=42)"
   ]
  },
  {
   "cell_type": "code",
   "execution_count": 157,
   "id": "a63d9e0d",
   "metadata": {},
   "outputs": [
    {
     "data": {
      "text/plain": [
       "array([ 9193.84,  8534.67, 27117.99, ..., 11931.13, 46113.51, 10214.64])"
      ]
     },
     "execution_count": 157,
     "metadata": {},
     "output_type": "execute_result"
    }
   ],
   "source": [
    "y_train"
   ]
  },
  {
   "cell_type": "code",
   "execution_count": null,
   "id": "c1d03fab",
   "metadata": {},
   "outputs": [],
   "source": []
  },
  {
   "cell_type": "markdown",
   "id": "7a824672",
   "metadata": {},
   "source": [
    "### TRAINING THE DATA SET"
   ]
  },
  {
   "cell_type": "code",
   "execution_count": 158,
   "id": "4d1011ee",
   "metadata": {},
   "outputs": [
    {
     "data": {
      "text/plain": [
       "RandomForestRegressor(n_estimators=40, random_state=42)"
      ]
     },
     "execution_count": 158,
     "metadata": {},
     "output_type": "execute_result"
    }
   ],
   "source": [
    "from sklearn.ensemble import RandomForestRegressor\n",
    "regressor=RandomForestRegressor(n_estimators=40,random_state=42)\n",
    "regressor.fit(X_train,y_train)"
   ]
  },
  {
   "cell_type": "code",
   "execution_count": null,
   "id": "3d97d45a",
   "metadata": {},
   "outputs": [],
   "source": []
  },
  {
   "cell_type": "markdown",
   "id": "2e780743",
   "metadata": {},
   "source": [
    "###  PREDICTING THE  DATA VALUES ON TEST DATA"
   ]
  },
  {
   "cell_type": "code",
   "execution_count": 159,
   "id": "d36d6067",
   "metadata": {},
   "outputs": [],
   "source": [
    "y_pred=regressor.predict(X_test)"
   ]
  },
  {
   "cell_type": "code",
   "execution_count": null,
   "id": "9f49a166",
   "metadata": {},
   "outputs": [],
   "source": []
  },
  {
   "cell_type": "markdown",
   "id": "d630768f",
   "metadata": {},
   "source": [
    "### COMPARING TEST DATA AND ACTUAL DATA"
   ]
  },
  {
   "cell_type": "code",
   "execution_count": 160,
   "id": "dd706567",
   "metadata": {},
   "outputs": [],
   "source": [
    "compare_predict=pd.DataFrame({'Y_test':y_test ,'Y_pred': y_pred })\n"
   ]
  },
  {
   "cell_type": "code",
   "execution_count": 161,
   "id": "cd307863",
   "metadata": {},
   "outputs": [
    {
     "data": {
      "text/html": [
       "<div>\n",
       "<style scoped>\n",
       "    .dataframe tbody tr th:only-of-type {\n",
       "        vertical-align: middle;\n",
       "    }\n",
       "\n",
       "    .dataframe tbody tr th {\n",
       "        vertical-align: top;\n",
       "    }\n",
       "\n",
       "    .dataframe thead th {\n",
       "        text-align: right;\n",
       "    }\n",
       "</style>\n",
       "<table border=\"1\" class=\"dataframe\">\n",
       "  <thead>\n",
       "    <tr style=\"text-align: right;\">\n",
       "      <th></th>\n",
       "      <th>Y_test</th>\n",
       "      <th>Y_pred</th>\n",
       "    </tr>\n",
       "  </thead>\n",
       "  <tbody>\n",
       "    <tr>\n",
       "      <th>0</th>\n",
       "      <td>9095.06825</td>\n",
       "      <td>9090.711332</td>\n",
       "    </tr>\n",
       "    <tr>\n",
       "      <th>1</th>\n",
       "      <td>5272.17580</td>\n",
       "      <td>5514.469461</td>\n",
       "    </tr>\n",
       "    <tr>\n",
       "      <th>2</th>\n",
       "      <td>29330.98315</td>\n",
       "      <td>28416.865396</td>\n",
       "    </tr>\n",
       "    <tr>\n",
       "      <th>3</th>\n",
       "      <td>9301.89355</td>\n",
       "      <td>13212.368506</td>\n",
       "    </tr>\n",
       "    <tr>\n",
       "      <th>4</th>\n",
       "      <td>33750.29180</td>\n",
       "      <td>34725.035940</td>\n",
       "    </tr>\n",
       "    <tr>\n",
       "      <th>...</th>\n",
       "      <td>...</td>\n",
       "      <td>...</td>\n",
       "    </tr>\n",
       "    <tr>\n",
       "      <th>263</th>\n",
       "      <td>47055.53210</td>\n",
       "      <td>46949.123129</td>\n",
       "    </tr>\n",
       "    <tr>\n",
       "      <th>264</th>\n",
       "      <td>12222.89830</td>\n",
       "      <td>12045.300025</td>\n",
       "    </tr>\n",
       "    <tr>\n",
       "      <th>265</th>\n",
       "      <td>6067.12675</td>\n",
       "      <td>6055.657370</td>\n",
       "    </tr>\n",
       "    <tr>\n",
       "      <th>266</th>\n",
       "      <td>63770.42801</td>\n",
       "      <td>46560.363555</td>\n",
       "    </tr>\n",
       "    <tr>\n",
       "      <th>267</th>\n",
       "      <td>9872.70100</td>\n",
       "      <td>10212.904819</td>\n",
       "    </tr>\n",
       "  </tbody>\n",
       "</table>\n",
       "<p>268 rows × 2 columns</p>\n",
       "</div>"
      ],
      "text/plain": [
       "          Y_test        Y_pred\n",
       "0     9095.06825   9090.711332\n",
       "1     5272.17580   5514.469461\n",
       "2    29330.98315  28416.865396\n",
       "3     9301.89355  13212.368506\n",
       "4    33750.29180  34725.035940\n",
       "..           ...           ...\n",
       "263  47055.53210  46949.123129\n",
       "264  12222.89830  12045.300025\n",
       "265   6067.12675   6055.657370\n",
       "266  63770.42801  46560.363555\n",
       "267   9872.70100  10212.904819\n",
       "\n",
       "[268 rows x 2 columns]"
      ]
     },
     "execution_count": 161,
     "metadata": {},
     "output_type": "execute_result"
    }
   ],
   "source": [
    "compare_predict"
   ]
  },
  {
   "cell_type": "code",
   "execution_count": null,
   "id": "459b712b",
   "metadata": {},
   "outputs": [],
   "source": []
  },
  {
   "cell_type": "code",
   "execution_count": null,
   "id": "bbe53272",
   "metadata": {},
   "outputs": [],
   "source": []
  },
  {
   "cell_type": "markdown",
   "id": "70357865",
   "metadata": {},
   "source": [
    "### VISUALISATION OF PREDICTED AND ACTUAL DATA"
   ]
  },
  {
   "cell_type": "code",
   "execution_count": 171,
   "id": "7a6f4d6f",
   "metadata": {},
   "outputs": [
    {
     "data": {
      "text/plain": [
       "<matplotlib.legend.Legend at 0x16844f28>"
      ]
     },
     "execution_count": 171,
     "metadata": {},
     "output_type": "execute_result"
    },
    {
     "data": {
      "image/png": "[encoded data removed]",
      "text/plain": [
       "<Figure size 640x480 with 1 Axes>"
      ]
     },
     "metadata": {},
     "output_type": "display_data"
    }
   ],
   "source": [
    "\n",
    "plt.title(\"Comparision between y_test and y_pred values\")\n",
    "\n",
    "\n",
    "\n",
    "plt.plot(y_test[0:20],color='r',label='y_test')\n",
    "plt.plot(y_pred[0:20],color='b',label='y_pred')\n",
    "plt.legend()"
   ]
  },
  {
   "cell_type": "code",
   "execution_count": null,
   "id": "2fedfc80",
   "metadata": {},
   "outputs": [],
   "source": [
    "\n"
   ]
  },
  {
   "cell_type": "markdown",
   "id": "0700075c",
   "metadata": {},
   "source": [
    "### PERFORMANCE SCORE OF TEST DATA"
   ]
  },
  {
   "cell_type": "code",
   "execution_count": 172,
   "id": "ea68b616",
   "metadata": {},
   "outputs": [
    {
     "data": {
      "text/plain": [
       "0.8627183552471691"
      ]
     },
     "execution_count": 172,
     "metadata": {},
     "output_type": "execute_result"
    }
   ],
   "source": [
    "from sklearn.metrics import r2_score\n",
    "r2_score(y_test,y_pred)"
   ]
  },
  {
   "cell_type": "code",
   "execution_count": null,
   "id": "cab3e195",
   "metadata": {},
   "outputs": [],
   "source": []
  },
  {
   "cell_type": "markdown",
   "id": "b9d10358",
   "metadata": {},
   "source": [
    "### PREDICTING THE  DATA VALUES ON TEST DATA"
   ]
  },
  {
   "cell_type": "code",
   "execution_count": 173,
   "id": "1831f35c",
   "metadata": {},
   "outputs": [],
   "source": [
    "y_prediction=regressor.predict(X)"
   ]
  },
  {
   "cell_type": "code",
   "execution_count": null,
   "id": "297b2fcd",
   "metadata": {},
   "outputs": [],
   "source": []
  },
  {
   "cell_type": "markdown",
   "id": "36b5ce8b",
   "metadata": {},
   "source": [
    "### PERFORMANCE SCORE OF Random forest Algorithm ON WHOLE DATA"
   ]
  },
  {
   "cell_type": "code",
   "execution_count": 174,
   "id": "f27823f2",
   "metadata": {},
   "outputs": [
    {
     "data": {
      "text/plain": [
       "0.9488010439972828"
      ]
     },
     "execution_count": 174,
     "metadata": {},
     "output_type": "execute_result"
    }
   ],
   "source": [
    "from sklearn.metrics import r2_score\n",
    "r2_score(y,y_prediction)"
   ]
  },
  {
   "cell_type": "code",
   "execution_count": null,
   "id": "3be421fd",
   "metadata": {},
   "outputs": [],
   "source": []
  },
  {
   "cell_type": "markdown",
   "id": "ffe8b911",
   "metadata": {},
   "source": [
    "### VISUALISATION OF PREDICTED AND ACTUAL DATA"
   ]
  },
  {
   "cell_type": "code",
   "execution_count": 176,
   "id": "96670f05",
   "metadata": {},
   "outputs": [
    {
     "data": {
      "text/plain": [
       "<matplotlib.legend.Legend at 0x17cd44f0>"
      ]
     },
     "execution_count": 176,
     "metadata": {},
     "output_type": "execute_result"
    },
    {
     "data": {
      "image/png": "[encoded data removed]",
      "text/plain": [
       "<Figure size 640x480 with 1 Axes>"
      ]
     },
     "metadata": {},
     "output_type": "display_data"
    }
   ],
   "source": [
    "\n",
    "plt.title(\"Comparision between y and y_prediction  values\")\n",
    "\n",
    "\n",
    "\n",
    "plt.plot(y[0:50],color='r',label='y_test')\n",
    "plt.plot(y_prediction[0:50],color='b',label='y_pred')\n",
    "plt.legend()"
   ]
  },
  {
   "cell_type": "code",
   "execution_count": null,
   "id": "512d3d1b",
   "metadata": {},
   "outputs": [],
   "source": []
  },
  {
   "cell_type": "markdown",
   "id": "bc2a6dd8",
   "metadata": {},
   "source": [
    "## GRAPHIC USER INTERFACE (GUI)"
   ]
  },
  {
   "cell_type": "code",
   "execution_count": 177,
   "id": "982dbca9",
   "metadata": {},
   "outputs": [],
   "source": [
    "from tkinter import *"
   ]
  },
  {
   "cell_type": "code",
   "execution_count": 191,
   "id": "eb553da4",
   "metadata": {},
   "outputs": [],
   "source": [
    "def answer():\n",
    "    a1=float(input1.get())\n",
    "    a2=float(input2.get())\n",
    "    a3=float(input3.get())\n",
    "    a4=float(input4.get())\n",
    "    a5=float(input5.get())\n",
    "    a6=float(input6.get())\n",
    "    \n",
    "    result=regressor.predict([[a1,a2,a3,a4,a5,a6]])\n",
    "    \n",
    "    Label(temp,text='The Insurance is').grid(row=7)\n",
    "    Label(temp,text=result).grid(row=7,column=1)\n",
    "\n",
    "\n",
    "\n",
    "temp=Tk()\n",
    "\n",
    "temp.title(\"Health Insurance Price Prediction\")\n",
    "Label(temp,text=\"Health Insurance Price Prediction\",bg='black',fg='white').grid(row=0,columnspan=3)\n",
    "Label(temp,text=\"Age\").grid(row=1)\n",
    "Label(temp,text=\"Sex (MALE=0, FEMALE=1)\").grid(row=2)\n",
    "Label(temp,text=\"BMI\").grid(row=3)\n",
    "Label(temp,text=\"No of Children\").grid(row=4)\n",
    "Label(temp,text=\"Are you a Smoker(if YES=1 / NO=0)\").grid(row=5)\n",
    "Label(temp,text=\"From which region do you belong(north[west/east]=1/2 or south[west/east]=3/4)\").grid(row=6)\n",
    "\n",
    "input1=Entry(temp)\n",
    "input2=Entry(temp)\n",
    "input3=Entry(temp)\n",
    "input4=Entry(temp)\n",
    "input5=Entry(temp)\n",
    "input6=Entry(temp)\n",
    "\n",
    "\n",
    "#position\n",
    "input1.grid(row=1, column=1)\n",
    "input2.grid(row=2, column=1)\n",
    "input3.grid(row=3, column=1)\n",
    "input4.grid(row=4, column=1)\n",
    "input5.grid(row=5, column=1)\n",
    "input6.grid(row=6, column=1)\n",
    "\n",
    "Button(temp,text='predict',command=answer).grid()\n",
    "\n",
    "\n",
    "\n",
    "mainloop()"
   ]
  },
  {
   "cell_type": "code",
   "execution_count": null,
   "id": "44480bca",
   "metadata": {},
   "outputs": [],
   "source": []
  },
  {
   "cell_type": "code",
   "execution_count": null,
   "id": "89242c19",
   "metadata": {},
   "outputs": [],
   "source": []
  }
 ],
 "metadata": {
  "kernelspec": {
   "display_name": "Python 3 (ipykernel)",
   "language": "python",
   "name": "python3"
  },
  "language_info": {
   "codemirror_mode": {
    "name": "ipython",
    "version": 3
   },
   "file_extension": ".py",
   "mimetype": "text/x-python",
   "name": "python",
   "nbconvert_exporter": "python",
   "pygments_lexer": "ipython3",
   "version": "3.9.12"
  }
 },
 "nbformat": 4,
 "nbformat_minor": 5
}
